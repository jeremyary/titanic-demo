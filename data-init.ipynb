{
 "cells": [
  {
   "cell_type": "code",
   "execution_count": 6,
   "outputs": [
    {
     "name": "stdout",
     "output_type": "stream",
     "text": [
      "Defaulting to user installation because normal site-packages is not writeable\r\n",
      "Requirement already satisfied: seaborn in /home/jary/.local/lib/python3.10/site-packages (0.13.0)\r\n",
      "Requirement already satisfied: pandas>=1.2 in /home/jary/.local/lib/python3.10/site-packages (from seaborn) (1.5.3)\r\n",
      "Requirement already satisfied: matplotlib!=3.6.1,>=3.3 in /home/jary/.local/lib/python3.10/site-packages (from seaborn) (3.8.2)\r\n",
      "Requirement already satisfied: numpy!=1.24.0,>=1.20 in /home/jary/.local/lib/python3.10/site-packages (from seaborn) (1.24.4)\r\n",
      "Requirement already satisfied: pyparsing>=2.3.1 in /usr/lib/python3/dist-packages (from matplotlib!=3.6.1,>=3.3->seaborn) (2.4.7)\r\n",
      "Requirement already satisfied: python-dateutil>=2.7 in /usr/local/lib/python3.10/dist-packages (from matplotlib!=3.6.1,>=3.3->seaborn) (2.8.2)\r\n",
      "Requirement already satisfied: contourpy>=1.0.1 in /home/jary/.local/lib/python3.10/site-packages (from matplotlib!=3.6.1,>=3.3->seaborn) (1.2.0)\r\n",
      "Requirement already satisfied: pillow>=8 in /usr/lib/python3/dist-packages (from matplotlib!=3.6.1,>=3.3->seaborn) (9.0.1)\r\n",
      "Requirement already satisfied: kiwisolver>=1.3.1 in /home/jary/.local/lib/python3.10/site-packages (from matplotlib!=3.6.1,>=3.3->seaborn) (1.4.5)\r\n",
      "Requirement already satisfied: packaging>=20.0 in /home/jary/.local/lib/python3.10/site-packages (from matplotlib!=3.6.1,>=3.3->seaborn) (23.2)\r\n",
      "Requirement already satisfied: fonttools>=4.22.0 in /home/jary/.local/lib/python3.10/site-packages (from matplotlib!=3.6.1,>=3.3->seaborn) (4.46.0)\r\n",
      "Requirement already satisfied: cycler>=0.10 in /home/jary/.local/lib/python3.10/site-packages (from matplotlib!=3.6.1,>=3.3->seaborn) (0.12.1)\r\n",
      "Requirement already satisfied: pytz>=2020.1 in /usr/lib/python3/dist-packages (from pandas>=1.2->seaborn) (2022.1)\r\n",
      "Requirement already satisfied: six>=1.5 in /usr/lib/python3/dist-packages (from python-dateutil>=2.7->matplotlib!=3.6.1,>=3.3->seaborn) (1.16.0)\r\n",
      "Note: you may need to restart the kernel to use updated packages.\n",
      "<class 'pandas.core.frame.DataFrame'>\n",
      "RangeIndex: 891 entries, 0 to 890\n",
      "Data columns (total 12 columns):\n",
      " #   Column       Non-Null Count  Dtype  \n",
      "---  ------       --------------  -----  \n",
      " 0   PassengerId  891 non-null    int64  \n",
      " 1   Survived     891 non-null    int64  \n",
      " 2   Pclass       891 non-null    int64  \n",
      " 3   Name         891 non-null    object \n",
      " 4   Sex          891 non-null    object \n",
      " 5   Age          714 non-null    float64\n",
      " 6   SibSp        891 non-null    int64  \n",
      " 7   Parch        891 non-null    int64  \n",
      " 8   Ticket       891 non-null    object \n",
      " 9   Fare         891 non-null    float64\n",
      " 10  Cabin        204 non-null    object \n",
      " 11  Embarked     889 non-null    object \n",
      "dtypes: float64(2), int64(5), object(5)\n",
      "memory usage: 83.7+ KB\n"
     ]
    },
    {
     "data": {
      "text/plain": "   PassengerId  Survived  Pclass  \\\n0            1         0       3   \n1            2         1       1   \n2            3         1       3   \n3            4         1       1   \n4            5         0       3   \n\n                                                Name     Sex   Age  SibSp  \\\n0                            Braund, Mr. Owen Harris    male  22.0      1   \n1  Cumings, Mrs. John Bradley (Florence Briggs Th...  female  38.0      1   \n2                             Heikkinen, Miss. Laina  female  26.0      0   \n3       Futrelle, Mrs. Jacques Heath (Lily May Peel)  female  35.0      1   \n4                           Allen, Mr. William Henry    male  35.0      0   \n\n   Parch            Ticket     Fare Cabin Embarked  \n0      0         A/5 21171   7.2500   NaN        S  \n1      0          PC 17599  71.2833   C85        C  \n2      0  STON/O2. 3101282   7.9250   NaN        S  \n3      0            113803  53.1000  C123        S  \n4      0            373450   8.0500   NaN        S  ",
      "text/html": "<div>\n<style scoped>\n    .dataframe tbody tr th:only-of-type {\n        vertical-align: middle;\n    }\n\n    .dataframe tbody tr th {\n        vertical-align: top;\n    }\n\n    .dataframe thead th {\n        text-align: right;\n    }\n</style>\n<table border=\"1\" class=\"dataframe\">\n  <thead>\n    <tr style=\"text-align: right;\">\n      <th></th>\n      <th>PassengerId</th>\n      <th>Survived</th>\n      <th>Pclass</th>\n      <th>Name</th>\n      <th>Sex</th>\n      <th>Age</th>\n      <th>SibSp</th>\n      <th>Parch</th>\n      <th>Ticket</th>\n      <th>Fare</th>\n      <th>Cabin</th>\n      <th>Embarked</th>\n    </tr>\n  </thead>\n  <tbody>\n    <tr>\n      <th>0</th>\n      <td>1</td>\n      <td>0</td>\n      <td>3</td>\n      <td>Braund, Mr. Owen Harris</td>\n      <td>male</td>\n      <td>22.0</td>\n      <td>1</td>\n      <td>0</td>\n      <td>A/5 21171</td>\n      <td>7.2500</td>\n      <td>NaN</td>\n      <td>S</td>\n    </tr>\n    <tr>\n      <th>1</th>\n      <td>2</td>\n      <td>1</td>\n      <td>1</td>\n      <td>Cumings, Mrs. John Bradley (Florence Briggs Th...</td>\n      <td>female</td>\n      <td>38.0</td>\n      <td>1</td>\n      <td>0</td>\n      <td>PC 17599</td>\n      <td>71.2833</td>\n      <td>C85</td>\n      <td>C</td>\n    </tr>\n    <tr>\n      <th>2</th>\n      <td>3</td>\n      <td>1</td>\n      <td>3</td>\n      <td>Heikkinen, Miss. Laina</td>\n      <td>female</td>\n      <td>26.0</td>\n      <td>0</td>\n      <td>0</td>\n      <td>STON/O2. 3101282</td>\n      <td>7.9250</td>\n      <td>NaN</td>\n      <td>S</td>\n    </tr>\n    <tr>\n      <th>3</th>\n      <td>4</td>\n      <td>1</td>\n      <td>1</td>\n      <td>Futrelle, Mrs. Jacques Heath (Lily May Peel)</td>\n      <td>female</td>\n      <td>35.0</td>\n      <td>1</td>\n      <td>0</td>\n      <td>113803</td>\n      <td>53.1000</td>\n      <td>C123</td>\n      <td>S</td>\n    </tr>\n    <tr>\n      <th>4</th>\n      <td>5</td>\n      <td>0</td>\n      <td>3</td>\n      <td>Allen, Mr. William Henry</td>\n      <td>male</td>\n      <td>35.0</td>\n      <td>0</td>\n      <td>0</td>\n      <td>373450</td>\n      <td>8.0500</td>\n      <td>NaN</td>\n      <td>S</td>\n    </tr>\n  </tbody>\n</table>\n</div>"
     },
     "execution_count": 6,
     "metadata": {},
     "output_type": "execute_result"
    }
   ],
   "source": [
    "%pip install seaborn\n",
    "import seaborn as sns\n",
    "import pandas as pd\n",
    "\n",
    "# import training & testing datasets that we want to work with (provided by problem)\n",
    "train_df = pd.read_csv('data/train.csv')\n",
    "test_df = pd.read_csv('data/test.csv')\n",
    "\n",
    "# quick preview of some possible data types/values\n",
    "train_df.info()\n",
    "train_df.head()\n"
   ],
   "metadata": {
    "collapsed": false,
    "ExecuteTime": {
     "end_time": "2023-12-14T23:11:52.329547035Z",
     "start_time": "2023-12-14T23:11:51.395513513Z"
    }
   }
  },
  {
   "cell_type": "code",
   "execution_count": 7,
   "outputs": [
    {
     "name": "stdout",
     "output_type": "stream",
     "text": [
      "train_df # dup. records: 0\n",
      "test_df # dup. records: 0\n"
     ]
    }
   ],
   "source": [
    "# determine if there's any dupes to deal with up front\n",
    "print('train_df # dup. records:', train_df.duplicated().sum())\n",
    "print('test_df # dup. records:', test_df.duplicated().sum())\n"
   ],
   "metadata": {
    "collapsed": false,
    "ExecuteTime": {
     "end_time": "2023-12-14T23:11:52.334894741Z",
     "start_time": "2023-12-14T23:11:52.331388963Z"
    }
   }
  },
  {
   "cell_type": "code",
   "execution_count": 8,
   "outputs": [
    {
     "name": "stdout",
     "output_type": "stream",
     "text": [
      "survivors subset now consists of ['PassengerId' 'Survived']\n",
      "demographics subset now consists of ['Pclass' 'Name' 'Sex' 'Age']\n",
      "genealogy subset now consists of ['SibSp' 'Parch']\n",
      "trip subset now consists of ['Ticket' 'Fare' 'Cabin' 'Embarked']\n"
     ]
    }
   ],
   "source": [
    "# split dataset into logical chunks so we can show off Feast features from multiple sources\n",
    "survivors_df = train_df[train_df.columns[:2]]\n",
    "demographics_df =train_df[train_df.columns[2:6]]\n",
    "genealogy_df = train_df[train_df.columns[6:8]]\n",
    "trip_df = train_df[train_df.columns[8:]]\n",
    "target_df = pd.DataFrame(train_df[\"Survived\"], columns=[\"Survived\"])\n",
    "\n",
    "print(\"survivors subset now consists of {0}\".format(survivors_df.columns.values))\n",
    "print(\"demographics subset now consists of {0}\".format(demographics_df.columns.values))\n",
    "print(\"genealogy subset now consists of {0}\".format(genealogy_df.columns.values))\n",
    "print(\"trip subset now consists of {0}\".format(trip_df.columns.values))\n"
   ],
   "metadata": {
    "collapsed": false,
    "ExecuteTime": {
     "end_time": "2023-12-14T23:11:52.402628568Z",
     "start_time": "2023-12-14T23:11:52.336481742Z"
    }
   }
  },
  {
   "cell_type": "code",
   "execution_count": 9,
   "outputs": [],
   "source": [
    "# append a timestamp as we aren't really tracking any specific times in our data, but Feast wants one\n",
    "# Creating timestamps for the data\n",
    "timestamps = pd.date_range(\n",
    "    end=pd.Timestamp.now(),\n",
    "    periods=len(survivors_df),\n",
    "    freq='D').to_frame(name=\"event_timestamp\", index=False)\n",
    "\n",
    "# add to each source\n",
    "survivors_df = pd.concat(objs=[survivors_df, timestamps], axis=1)\n",
    "demographics_df = pd.concat(objs=[demographics_df, timestamps], axis=1)\n",
    "genealogy_df = pd.concat(objs=[genealogy_df, timestamps], axis=1)\n",
    "trip_df = pd.concat(objs=[trip_df, timestamps], axis=1)\n"
   ],
   "metadata": {
    "collapsed": false,
    "ExecuteTime": {
     "end_time": "2023-12-14T23:11:52.402779781Z",
     "start_time": "2023-12-14T23:11:52.379969587Z"
    }
   }
  },
  {
   "cell_type": "code",
   "execution_count": 10,
   "outputs": [
    {
     "name": "stdout",
     "output_type": "stream",
     "text": [
      "<class 'pandas.core.frame.DataFrame'>\n",
      "RangeIndex: 891 entries, 0 to 890\n",
      "Data columns (total 6 columns):\n",
      " #   Column           Non-Null Count  Dtype         \n",
      "---  ------           --------------  -----         \n",
      " 0   Ticket           891 non-null    object        \n",
      " 1   Fare             891 non-null    float64       \n",
      " 2   Cabin            204 non-null    object        \n",
      " 3   Embarked         889 non-null    object        \n",
      " 4   event_timestamp  891 non-null    datetime64[ns]\n",
      " 5   PassengerId      891 non-null    int64         \n",
      "dtypes: datetime64[ns](1), float64(1), int64(1), object(3)\n",
      "memory usage: 41.9+ KB\n"
     ]
    },
    {
     "data": {
      "text/plain": "             Ticket     Fare Cabin Embarked            event_timestamp  \\\n0         A/5 21171   7.2500   NaN        S 2021-07-07 17:11:52.360260   \n1          PC 17599  71.2833   C85        C 2021-07-08 17:11:52.360260   \n2  STON/O2. 3101282   7.9250   NaN        S 2021-07-09 17:11:52.360260   \n3            113803  53.1000  C123        S 2021-07-10 17:11:52.360260   \n4            373450   8.0500   NaN        S 2021-07-11 17:11:52.360260   \n\n   PassengerId  \n0            1  \n1            2  \n2            3  \n3            4  \n4            5  ",
      "text/html": "<div>\n<style scoped>\n    .dataframe tbody tr th:only-of-type {\n        vertical-align: middle;\n    }\n\n    .dataframe tbody tr th {\n        vertical-align: top;\n    }\n\n    .dataframe thead th {\n        text-align: right;\n    }\n</style>\n<table border=\"1\" class=\"dataframe\">\n  <thead>\n    <tr style=\"text-align: right;\">\n      <th></th>\n      <th>Ticket</th>\n      <th>Fare</th>\n      <th>Cabin</th>\n      <th>Embarked</th>\n      <th>event_timestamp</th>\n      <th>PassengerId</th>\n    </tr>\n  </thead>\n  <tbody>\n    <tr>\n      <th>0</th>\n      <td>A/5 21171</td>\n      <td>7.2500</td>\n      <td>NaN</td>\n      <td>S</td>\n      <td>2021-07-07 17:11:52.360260</td>\n      <td>1</td>\n    </tr>\n    <tr>\n      <th>1</th>\n      <td>PC 17599</td>\n      <td>71.2833</td>\n      <td>C85</td>\n      <td>C</td>\n      <td>2021-07-08 17:11:52.360260</td>\n      <td>2</td>\n    </tr>\n    <tr>\n      <th>2</th>\n      <td>STON/O2. 3101282</td>\n      <td>7.9250</td>\n      <td>NaN</td>\n      <td>S</td>\n      <td>2021-07-09 17:11:52.360260</td>\n      <td>3</td>\n    </tr>\n    <tr>\n      <th>3</th>\n      <td>113803</td>\n      <td>53.1000</td>\n      <td>C123</td>\n      <td>S</td>\n      <td>2021-07-10 17:11:52.360260</td>\n      <td>4</td>\n    </tr>\n    <tr>\n      <th>4</th>\n      <td>373450</td>\n      <td>8.0500</td>\n      <td>NaN</td>\n      <td>S</td>\n      <td>2021-07-11 17:11:52.360260</td>\n      <td>5</td>\n    </tr>\n  </tbody>\n</table>\n</div>"
     },
     "execution_count": 10,
     "metadata": {},
     "output_type": "execute_result"
    }
   ],
   "source": [
    "# append the PassengerId across the list (we could generate arbitrary values, but we'll use what's provided)\n",
    "passenger_ids = survivors_df['PassengerId']\n",
    "\n",
    "demographics_df = pd.concat(objs=[demographics_df, passenger_ids], axis=1)\n",
    "genealogy_df = pd.concat(objs=[genealogy_df, passenger_ids], axis=1)\n",
    "trip_df = pd.concat(objs=[trip_df, passenger_ids], axis=1)\n",
    "\n",
    "survivors_df.to_parquet(path='data/survivors_source.parquet')\n",
    "demographics_df.to_parquet(path='data/demographics_source.parquet')\n",
    "genealogy_df.to_parquet(path='data/genealogy_source.parquet')\n",
    "trip_df.to_parquet(path='data/trip_source.parquet')\n",
    "\n",
    "# peek at one just to verify what went in\n",
    "trip_df.info()\n",
    "trip_df.head()\n"
   ],
   "metadata": {
    "collapsed": false,
    "ExecuteTime": {
     "end_time": "2023-12-14T23:11:52.431912580Z",
     "start_time": "2023-12-14T23:11:52.380073923Z"
    }
   }
  }
 ],
 "metadata": {
  "kernelspec": {
   "display_name": "Python 3",
   "language": "python",
   "name": "python3"
  },
  "language_info": {
   "codemirror_mode": {
    "name": "ipython",
    "version": 2
   },
   "file_extension": ".py",
   "mimetype": "text/x-python",
   "name": "python",
   "nbconvert_exporter": "python",
   "pygments_lexer": "ipython2",
   "version": "2.7.6"
  }
 },
 "nbformat": 4,
 "nbformat_minor": 0
}
