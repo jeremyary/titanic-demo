{
 "cells": [
  {
   "cell_type": "code",
   "execution_count": 21,
   "metadata": {
    "collapsed": true,
    "ExecuteTime": {
     "end_time": "2023-12-15T18:59:33.289499471Z",
     "start_time": "2023-12-15T18:59:25.803877999Z"
    }
   },
   "outputs": [
    {
     "name": "stdout",
     "output_type": "stream",
     "text": [
      "<class 'pandas.core.frame.DataFrame'>\n",
      "RangeIndex: 890 entries, 0 to 889\n",
      "Data columns (total 13 columns):\n",
      " #   Column           Non-Null Count  Dtype              \n",
      "---  ------           --------------  -----              \n",
      " 0   PassengerId      890 non-null    int64              \n",
      " 1   event_timestamp  890 non-null    datetime64[ns, UTC]\n",
      " 2   Survived         890 non-null    int64              \n",
      " 3   Pclass           890 non-null    int64              \n",
      " 4   Name             890 non-null    object             \n",
      " 5   Sex              890 non-null    object             \n",
      " 6   Age              713 non-null    float64            \n",
      " 7   SibSp            890 non-null    int64              \n",
      " 8   Parch            890 non-null    int64              \n",
      " 9   Ticket           890 non-null    object             \n",
      " 10  Fare             890 non-null    float64            \n",
      " 11  Cabin            204 non-null    object             \n",
      " 12  Embarked         888 non-null    object             \n",
      "dtypes: datetime64[ns, UTC](1), float64(2), int64(5), object(5)\n",
      "memory usage: 90.5+ KB\n",
      "None\n",
      "------------------------------\n",
      "<class 'pandas.core.frame.DataFrame'>\n",
      "RangeIndex: 417 entries, 0 to 416\n",
      "Data columns (total 12 columns):\n",
      " #   Column           Non-Null Count  Dtype              \n",
      "---  ------           --------------  -----              \n",
      " 0   PassengerId      417 non-null    int64              \n",
      " 1   event_timestamp  417 non-null    datetime64[ns, UTC]\n",
      " 2   Pclass           417 non-null    int64              \n",
      " 3   Name             417 non-null    object             \n",
      " 4   Sex              417 non-null    object             \n",
      " 5   Age              332 non-null    float64            \n",
      " 6   SibSp            417 non-null    int64              \n",
      " 7   Parch            417 non-null    int64              \n",
      " 8   Ticket           417 non-null    object             \n",
      " 9   Fare             416 non-null    float64            \n",
      " 10  Cabin            91 non-null     object             \n",
      " 11  Embarked         417 non-null    object             \n",
      "dtypes: datetime64[ns, UTC](1), float64(2), int64(4), object(5)\n",
      "memory usage: 39.2+ KB\n",
      "None\n"
     ]
    }
   ],
   "source": [
    "import pandas as pd\n",
    "from feast import FeatureStore\n",
    "from feast.infra.offline_stores.file_source import SavedDatasetFileStorage\n",
    "\n",
    "store = FeatureStore(repo_path=\".\")\n",
    "\n",
    "# normally, this is where we'd zoom in on a timeframe or subset of interest, but this's a small dataset for training, grab it all\n",
    "entity_df = pd.DataFrame.from_dict({ \"PassengerId\": list(range(1, 891)) })\n",
    "entity_df[\"event_timestamp\"] = pd.to_datetime(\"now\", utc=True)\n",
    "train_df = store.get_historical_features(\n",
    "    entity_df=entity_df, features=store.get_feature_service('omniscient_service')\n",
    ").to_df()\n",
    "\n",
    "entity_df = pd.DataFrame.from_dict({ \"PassengerId\": list(range(892, 1309)) })\n",
    "entity_df[\"event_timestamp\"] = pd.to_datetime(\"now\", utc=True)\n",
    "test_df = store.get_historical_features(\n",
    "    entity_df=entity_df, features=store.get_feature_service('test_service')\n",
    ").to_df()\n",
    "\n",
    "print(train_df.info())\n",
    "print('-'*30)\n",
    "print (test_df.info())\n"
   ]
  },
  {
   "cell_type": "code",
   "execution_count": 22,
   "outputs": [
    {
     "name": "stdout",
     "output_type": "stream",
     "text": [
      "train_df # dup. records: 0\n",
      "cols in train_df w/nulls: \n",
      "PassengerId          0\n",
      "event_timestamp      0\n",
      "Survived             0\n",
      "Pclass               0\n",
      "Name                 0\n",
      "Sex                  0\n",
      "Age                177\n",
      "SibSp                0\n",
      "Parch                0\n",
      "Ticket               0\n",
      "Fare                 0\n",
      "Cabin              686\n",
      "Embarked             2\n",
      "dtype: int64\n",
      "----------------------------------------\n",
      "cols in test_df w/nulls: \n",
      "PassengerId          0\n",
      "event_timestamp      0\n",
      "Pclass               0\n",
      "Name                 0\n",
      "Sex                  0\n",
      "Age                 85\n",
      "SibSp                0\n",
      "Parch                0\n",
      "Ticket               0\n",
      "Fare                 1\n",
      "Cabin              326\n",
      "Embarked             0\n",
      "dtype: int64\n"
     ]
    }
   ],
   "source": [
    "# TODO: sanitization tasks:\n",
    "#   we already checked for duplicate records, but could do so again from omniscient_service\n",
    "print('train_df # dup. records:', train_df.duplicated().sum())\n",
    "\n",
    "# let's normalize both the training and test data at once\n",
    "print (\"cols in train_df w/nulls: \")\n",
    "print(train_df.isnull().sum())\n",
    "print('-'*40)\n",
    "print(\"cols in test_df w/nulls: \")\n",
    "print(test_df.isnull().sum())\n"
   ],
   "metadata": {
    "collapsed": false,
    "ExecuteTime": {
     "end_time": "2023-12-15T18:59:33.294029692Z",
     "start_time": "2023-12-15T18:59:33.290695778Z"
    }
   }
  },
  {
   "cell_type": "code",
   "execution_count": 22,
   "outputs": [],
   "source": [],
   "metadata": {
    "collapsed": false,
    "ExecuteTime": {
     "end_time": "2023-12-15T18:59:33.336007493Z",
     "start_time": "2023-12-15T18:59:33.294639806Z"
    }
   }
  }
 ],
 "metadata": {
  "kernelspec": {
   "display_name": "Python 3",
   "language": "python",
   "name": "python3"
  },
  "language_info": {
   "codemirror_mode": {
    "name": "ipython",
    "version": 2
   },
   "file_extension": ".py",
   "mimetype": "text/x-python",
   "name": "python",
   "nbconvert_exporter": "python",
   "pygments_lexer": "ipython2",
   "version": "2.7.6"
  }
 },
 "nbformat": 4,
 "nbformat_minor": 0
}
