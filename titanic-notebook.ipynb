{
 "cells": [
  {
   "cell_type": "code",
   "execution_count": 8,
   "metadata": {
    "collapsed": true,
    "ExecuteTime": {
     "end_time": "2023-12-15T17:00:37.517257410Z",
     "start_time": "2023-12-15T17:00:32.253540722Z"
    }
   },
   "outputs": [
    {
     "name": "stdout",
     "output_type": "stream",
     "text": [
      "    PassengerId                  event_timestamp  Survived  Pclass  \\\n",
      "0             1 2023-12-15 17:00:32.745400+00:00         0       3   \n",
      "1             2 2023-12-15 17:00:32.745400+00:00         1       1   \n",
      "2             3 2023-12-15 17:00:32.745400+00:00         1       3   \n",
      "3             4 2023-12-15 17:00:32.745400+00:00         1       1   \n",
      "4             5 2023-12-15 17:00:32.745400+00:00         0       3   \n",
      "..          ...                              ...       ...     ...   \n",
      "95           96 2023-12-15 17:00:32.745400+00:00         0       3   \n",
      "96           97 2023-12-15 17:00:32.745400+00:00         0       1   \n",
      "97           98 2023-12-15 17:00:32.745400+00:00         1       1   \n",
      "98           99 2023-12-15 17:00:32.745400+00:00         1       2   \n",
      "99          100 2023-12-15 17:00:32.745400+00:00         0       2   \n",
      "\n",
      "                                                 Name     Sex   Age  SibSp  \\\n",
      "0                             Braund, Mr. Owen Harris    male  22.0      1   \n",
      "1   Cumings, Mrs. John Bradley (Florence Briggs Th...  female  38.0      1   \n",
      "2                              Heikkinen, Miss. Laina  female  26.0      0   \n",
      "3        Futrelle, Mrs. Jacques Heath (Lily May Peel)  female  35.0      1   \n",
      "4                            Allen, Mr. William Henry    male  35.0      0   \n",
      "..                                                ...     ...   ...    ...   \n",
      "95                        Shorney, Mr. Charles Joseph    male   NaN      0   \n",
      "96                          Goldschmidt, Mr. George B    male  71.0      0   \n",
      "97                    Greenfield, Mr. William Bertram    male  23.0      0   \n",
      "98               Doling, Mrs. John T (Ada Julia Bone)  female  34.0      0   \n",
      "99                                  Kantor, Mr. Sinai    male  34.0      1   \n",
      "\n",
      "    Parch            Ticket     Fare    Cabin Embarked  \n",
      "0       0         A/5 21171   7.2500     None        S  \n",
      "1       0          PC 17599  71.2833      C85        C  \n",
      "2       0  STON/O2. 3101282   7.9250     None        S  \n",
      "3       0            113803  53.1000     C123        S  \n",
      "4       0            373450   8.0500     None        S  \n",
      "..    ...               ...      ...      ...      ...  \n",
      "95      0            374910   8.0500     None        S  \n",
      "96      0          PC 17754  34.6542       A5        C  \n",
      "97      1          PC 17759  63.3583  D10 D12        C  \n",
      "98      1            231919  23.0000     None        S  \n",
      "99      0            244367  26.0000     None        S  \n",
      "\n",
      "[100 rows x 13 columns]\n"
     ]
    }
   ],
   "source": [
    "import pandas as pd\n",
    "from feast import FeatureStore\n",
    "from feast.infra.offline_stores.file_source import SavedDatasetFileStorage\n",
    "\n",
    "store = FeatureStore(repo_path=\".\")\n",
    "\n",
    "entity_df = pd.DataFrame.from_dict({ \"PassengerId\": list(range(1,101)) })\n",
    "entity_df[\"event_timestamp\"] = pd.to_datetime(\"now\", utc=True)\n",
    "training_df = store.get_historical_features(\n",
    "    entity_df=entity_df, features=store.get_feature_service('omniscient_service')\n",
    ").to_df()\n",
    "\n",
    "print(training_df)\n"
   ]
  },
  {
   "cell_type": "code",
   "execution_count": null,
   "outputs": [],
   "source": [],
   "metadata": {
    "collapsed": false
   }
  }
 ],
 "metadata": {
  "kernelspec": {
   "display_name": "Python 3",
   "language": "python",
   "name": "python3"
  },
  "language_info": {
   "codemirror_mode": {
    "name": "ipython",
    "version": 2
   },
   "file_extension": ".py",
   "mimetype": "text/x-python",
   "name": "python",
   "nbconvert_exporter": "python",
   "pygments_lexer": "ipython2",
   "version": "2.7.6"
  }
 },
 "nbformat": 4,
 "nbformat_minor": 0
}
